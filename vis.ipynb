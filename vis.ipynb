{
 "cells": [
  {
   "cell_type": "markdown",
   "metadata": {},
   "source": [
    "# Particle Autoencoder Analysis Example"
   ]
  },
  {
   "cell_type": "code",
   "execution_count": null,
   "metadata": {},
   "outputs": [],
   "source": [
    "import torch\n",
    "import os, math, time\n",
    "import numpy as np\n",
    "from sklearn.cluster import KMeans\n",
    "from matplotlib import pyplot as plt\n",
    "\n",
    "from train import inference_latent, reconstruction\n",
    "from process_data import collect_file, data_reader, PointData, vtk_write, numpy_to_vtp, collate_ball\n",
    "from mean_shift import mean_shift_track\n",
    "from model.GeoConvNet import GeoConvNet\n",
    "from torch.utils.data import DataLoader\n",
    "\n",
    "try:\n",
    "    data_path = os.environ['data']\n",
    "except KeyError:\n",
    "    data_path = './data/'"
   ]
  },
  {
   "cell_type": "markdown",
   "metadata": {},
   "source": [
    "## Load trained model and prepare the data"
   ]
  },
  {
   "cell_type": "code",
   "execution_count": null,
   "metadata": {},
   "outputs": [],
   "source": [
    "load_filename = './example/final_model.pth'\n",
    "use_cuda = torch.cuda.is_available()\n",
    "state_dict = torch.load(load_filename,map_location='cuda' if use_cuda else 'cpu')\n",
    "state = state_dict['state']\n",
    "# load model related arguments\n",
    "config = state_dict['config']\n",
    "args = config\n",
    "device = torch.device('cuda') if use_cuda else torch.device('cpu')\n",
    "print(args)\n",
    "\n",
    "    \n",
    "if args.source == \"fpm\":\n",
    "    file_list = collect_file(os.path.join(data_path, \"2016_scivis_fpm/0.44/run41\"),args.source,shuffle=False)\n",
    "    fileName = os.path.join(data_path,\"2016_scivis_fpm/0.44/run41/025.vtu\")\n",
    "    # fileName = os.path.join(data_path,\"/2016_scivis_fpm/0.44/run41/035.vtu\")\n",
    "    input_dim = 7\n",
    "elif args.source == \"cos\":\n",
    "    file_list = collect_file(os.path.join(data_path,\"ds14_scivis_0128/raw\"),args.source,shuffle=False)\n",
    "    fileName = os.path.join(data_path,'ds14_scivis_0128/raw/ds14_scivis_0128_e4_dt04_0.4900')\n",
    "    input_dim = 10\n",
    "elif args.source == 'jet3b':\n",
    "    file_list = collect_file(os.path.join(data_path,\"jet3b/run3g_50Am_jet3b_sph.3400\"),args.source,shuffle=False)\n",
    "    fileName = os.path.join(data_path,\"jet3b/run3g_50Am_jet3b_sph.3400\")\n",
    "    input_dim = 5\n",
    "print(fileName)\n",
    "model = GeoConvNet(args.lat_dim, input_dim, args.ball, args.enc_out, args.r).float().to(device)\n",
    "model.load_state_dict(state)\n",
    "model.eval()\n",
    "torch.set_grad_enabled(False)\n",
    "\n",
    "data_source = data_reader(fileName, args.source)\n",
    "pd = PointData(data_source, args.k, args.r, args.ball, np.arange(len(data_source)))\n",
    "\n",
    "kwargs = {'pin_memory': True} if use_cuda else {}\n",
    "batch_size = 1024\n",
    "loader = DataLoader(pd, batch_size=batch_size, shuffle=False, drop_last=False, collate_fn=collate_ball if args.ball else None, **kwargs)"
   ]
  },
  {
   "cell_type": "markdown",
   "metadata": {},
   "source": [
    "## Plot training loss"
   ]
  },
  {
   "cell_type": "code",
   "execution_count": null,
   "metadata": {},
   "outputs": [],
   "source": [
    "with open(os.path.join(args.result_dir,'epoch_loss_log.txt'), 'r') as f:\n",
    "    lines = f.readlines()\n",
    "    x = [float(line) for line in lines]\n",
    "fig=plt.figure(figsize=(10,6), dpi= 100, facecolor='w', edgecolor='k')\n",
    "plt.plot(np.arange(1,len(x)+1),x)\n",
    "plt.show()"
   ]
  },
  {
   "cell_type": "markdown",
   "metadata": {},
   "source": [
    "## Calculate PSNR"
   ]
  },
  {
   "cell_type": "code",
   "execution_count": null,
   "metadata": {},
   "outputs": [],
   "source": [
    "output = reconstruction(model,loader,input_dim,args.ball,device)\n",
    "output = output.numpy()\n",
    "mse = np.mean((output - data_source[:,3:]) ** 2)\n",
    "psnr = 10 * math.log10(0.64/mse)\n",
    "print('psnr:',psnr)"
   ]
  },
  {
   "cell_type": "markdown",
   "metadata": {},
   "source": [
    "# Inference latent vectors"
   ]
  },
  {
   "cell_type": "code",
   "execution_count": null,
   "metadata": {},
   "outputs": [],
   "source": [
    "# inference latent vectors\n",
    "latent = inference_latent(model,loader,args.lat_dim,args.ball,device)\n",
    "print(latent.shape)\n",
    "np.save(os.path.join(args.result_dir,'latent.npy'),latent.numpy())"
   ]
  },
  {
   "cell_type": "markdown",
   "metadata": {},
   "source": [
    "### Cluster the latent vectors and save to vtk format"
   ]
  },
  {
   "cell_type": "code",
   "execution_count": null,
   "metadata": {},
   "outputs": [],
   "source": [
    "# clustering\n",
    "km = KMeans(8,n_init=10,n_jobs=8)\n",
    "clu = km.fit_predict(latent)\n",
    "print(clu.shape)\n",
    "# write npy output to vti format\n",
    "coord = pd.data[:,:3]\n",
    "if args.source == 'jet3b':\n",
    "    data_dict = {\n",
    "        'pred_rho': output[:,0],\n",
    "        'pred_temp': output[:,1],\n",
    "        'rho': pd.data[:,3],\n",
    "        'temp': pd.data[:,4],\n",
    "        'clu': clu\n",
    "    }\n",
    "elif args.source == 'fpm':\n",
    "    data_dict = {\n",
    "        'pred_concentration': output[:,0],\n",
    "        'pred_velocity': output[:,1:],\n",
    "        'concentration': pd.data[:,3],\n",
    "        'velocity': pd.data[:,4:],\n",
    "        'clu': clu\n",
    "    }\n",
    "elif args.source == 'cos':\n",
    "    data_dict = {\n",
    "        \"pred_phi\":output[:,-1],\n",
    "        \"pred_velocity\":output[:,0:3],\n",
    "        \"pred_acceleration\":output[:,3:6],\n",
    "        \"phi\":pd.data[:,-1],\n",
    "        \"velocity\":pd.data[:,3:6],\n",
    "        \"acceleration\":pd.data[:,6:9],\n",
    "        'clu': clu\n",
    "    }\n",
    "vtk_data = numpy_to_vtp(coord,data_dict)\n",
    "vtk_write( vtk_data, args.result_dir + \"/predict.vtp\")"
   ]
  }
 ],
 "metadata": {
  "interpreter": {
   "hash": "a7df2755c5cc7d4e113585c0619c93d1f8a9911c43c4cd177e473cd15293686a"
  },
  "kernelspec": {
   "display_name": "Python 3.7.11 64-bit ('base': conda)",
   "name": "python3"
  },
  "language_info": {
   "codemirror_mode": {
    "name": "ipython",
    "version": 3
   },
   "file_extension": ".py",
   "mimetype": "text/x-python",
   "name": "python",
   "nbconvert_exporter": "python",
   "pygments_lexer": "ipython3",
   "version": "3.7.6"
  }
 },
 "nbformat": 4,
 "nbformat_minor": 4
}
